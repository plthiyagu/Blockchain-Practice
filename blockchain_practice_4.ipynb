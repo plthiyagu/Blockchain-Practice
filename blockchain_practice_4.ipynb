{
 "cells": [
  {
   "cell_type": "code",
   "execution_count": 29,
   "metadata": {},
   "outputs": [
    {
     "data": {
      "text/plain": [
       "[0 : 2017-12-23 22:57:45.670000, Genesis Block : 0,\n",
       " 1 : 2017-12-23 22:57:45.670000, this is block # : 1 : 1e8a9a626cbd6839143dbf2ee7e1f4eaea8be6dcb911d932b88dcbacde22b391,\n",
       " 2 : 2017-12-23 22:57:45.670000, this is block # : 2 : 5aff297e72e32e50badb53e84903201dc0f7a87c30e27198d9f9086ef3dacfd1]"
      ]
     },
     "execution_count": 29,
     "metadata": {},
     "output_type": "execute_result"
    }
   ],
   "source": [
    "import hashlib \n",
    "import datetime\n",
    "\n",
    "class Block:\n",
    "    def __init__(self,index, timestamp, data, previous_hash):\n",
    "        self.index = index\n",
    "        self.timestamp = timestamp\n",
    "        self.data = data\n",
    "        self.previous_hash = previous_hash\n",
    "        self.hash = self.hash_block()\n",
    "        \n",
    "    def __repr__(self):\n",
    "        return \"{0} : {1}, {2} : {3}\".format(self.index,str(self.timestamp),str(self.data),str(self.previous_hash))\n",
    "    \n",
    "    def hash_block(self):\n",
    "        sha = hashlib.sha256()\n",
    "        sha.update(repr(self).encode('ascii'))\n",
    "        return sha.hexdigest()\n",
    "    \n",
    "def create_genesis_block():\n",
    "    return Block(0, datetime.datetime.now(), \"Genesis Block\", \"0\")\n",
    "\n",
    "def create_next_block(last_block):\n",
    "    index = last_block.index + 1\n",
    "    timestamp = datetime.datetime.now()\n",
    "    data = \"this is block # : {0}\".format(str(index))\n",
    "    hash = last_block.hash\n",
    "    return Block(index, timestamp, data, hash)\n",
    "\n",
    "bc = [create_genesis_block()]\n",
    "prev_block = bc[0]\n",
    "\n",
    "new_block = create_next_block(prev_block)\n",
    "bc.append(new_block)\n",
    "prev_block = new_block\n",
    "\n",
    "new_block = create_next_block(prev_block)\n",
    "bc.append(new_block)\n",
    "prev_block = new_block\n",
    "\n",
    "bc  "
   ]
  },
  {
   "cell_type": "code",
   "execution_count": 27,
   "metadata": {},
   "outputs": [],
   "source": [
    "def validate_bc(bc):\n",
    "    for curr_pos in range(1, len(bc)):\n",
    "        prev_pos = curr_pos -1 \n",
    "        if bc[prev_pos].hash_block() == bc[curr_pos].previous_hash:\n",
    "            print(\"Block {0} is Valid\".format(curr_pos))\n",
    "        else:\n",
    "            print(\"Block {0} is Invalid\".format(curr_pos))\n",
    "            break"
   ]
  },
  {
   "cell_type": "code",
   "execution_count": 30,
   "metadata": {},
   "outputs": [
    {
     "name": "stdout",
     "output_type": "stream",
     "text": [
      "Block 1 is Valid\n",
      "Block 2 is Valid\n"
     ]
    }
   ],
   "source": [
    "bc[2].data = \"changed bc data\"\n",
    "validate_bc(bc)"
   ]
  },
  {
   "cell_type": "code",
   "execution_count": null,
   "metadata": {},
   "outputs": [],
   "source": []
  }
 ],
 "metadata": {
  "kernelspec": {
   "display_name": "Python 2",
   "language": "python",
   "name": "python2"
  },
  "language_info": {
   "codemirror_mode": {
    "name": "ipython",
    "version": 2
   },
   "file_extension": ".py",
   "mimetype": "text/x-python",
   "name": "python",
   "nbconvert_exporter": "python",
   "pygments_lexer": "ipython2",
   "version": "2.7.14"
  }
 },
 "nbformat": 4,
 "nbformat_minor": 2
}
