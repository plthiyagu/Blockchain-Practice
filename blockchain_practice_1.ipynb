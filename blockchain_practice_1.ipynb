{
 "cells": [
  {
   "cell_type": "code",
   "execution_count": 29,
   "metadata": {},
   "outputs": [],
   "source": [
    "#https://www.kaggle.com/kmader/build-your-own-blockchain\n",
    "import hashlib as hasher\n",
    "import datetime as date"
   ]
  },
  {
   "cell_type": "code",
   "execution_count": null,
   "metadata": {},
   "outputs": [],
   "source": []
  },
  {
   "cell_type": "code",
   "execution_count": 30,
   "metadata": {},
   "outputs": [],
   "source": [
    "# Define what a Snakecoin block is\n",
    "class Block:\n",
    "  def __init__(self, index, timestamp, data, previous_hash):\n",
    "    self.index = index\n",
    "    self.timestamp = timestamp\n",
    "    self.data = data\n",
    "    self.previous_hash = previous_hash\n",
    "    self.hash = self.hash_block()\n",
    "  def __repr__(self):\n",
    "    return \"%04d: %s, %s : %s\" % (self.index,str(self.timestamp),str(self.data),str(self.previous_hash))\n",
    "\n",
    "  def hash_block(self):\n",
    "    sha = hasher.sha256()\n",
    "    sha.update(repr(self).encode('ascii'))\n",
    "    return sha.hexdigest()"
   ]
  },
  {
   "cell_type": "code",
   "execution_count": 28,
   "metadata": {},
   "outputs": [],
   "source": [
    "# Generate genesis block\n",
    "# the first block of block chain\n",
    "\n",
    "def create_genesis_block():\n",
    "  # Manually construct a block with\n",
    "  # index zero and arbitrary previous hash\n",
    "  return Block(0, date.datetime.now(), \"Genesis Block\", \"0\")"
   ]
  },
  {
   "cell_type": "code",
   "execution_count": 8,
   "metadata": {},
   "outputs": [],
   "source": [
    "# Create the blockchain and add the genesis block\n",
    "# object of dictionary \n",
    "blockchain = [create_genesis_block()]\n",
    "previous_block = blockchain[0]\n"
   ]
  },
  {
   "cell_type": "code",
   "execution_count": 10,
   "metadata": {},
   "outputs": [
    {
     "data": {
      "text/plain": [
       "[0000: 2017-12-17 09:28:25.578960, Genesis Block : 0]"
      ]
     },
     "execution_count": 10,
     "metadata": {},
     "output_type": "execute_result"
    }
   ],
   "source": [
    "# Show the blockchain\n",
    "blockchain"
   ]
  },
  {
   "cell_type": "code",
   "execution_count": 12,
   "metadata": {},
   "outputs": [],
   "source": [
    "# Generate all later blocks in the blockchain\n",
    "def next_block(last_block):\n",
    "  this_index = last_block.index + 1\n",
    "  this_timestamp = date.datetime.now()\n",
    "  this_data = \"Hey! I'm block \" + str(this_index)\n",
    "  this_hash = last_block.hash\n",
    "  return Block(this_index, this_timestamp, this_data, this_hash)"
   ]
  },
  {
   "cell_type": "code",
   "execution_count": 31,
   "metadata": {},
   "outputs": [
    {
     "name": "stdout",
     "output_type": "stream",
     "text": [
      "Block #11 has been added to the blockchain!\n",
      "Hash: 49fdec08a7b33869eb0177fd8b4d164e25b3e79cdac0b8b16874f90f040d234c\n",
      "\n",
      "Block #12 has been added to the blockchain!\n",
      "Hash: bc70d409cc672f2f4b508b23f327834c099bf4af68b7eb7472092ee55afbe023\n",
      "\n",
      "Block #13 has been added to the blockchain!\n",
      "Hash: 1a27e94db2c02d6a9436a0b816a4e5a172ba8cbc0fadb93bbc7d03c359d13a96\n",
      "\n",
      "Block #14 has been added to the blockchain!\n",
      "Hash: 166e7b7d48a015e22dc1d3a2b0987f198d2170759b37ff75aea26fc63c398959\n",
      "\n",
      "Block #15 has been added to the blockchain!\n",
      "Hash: 7cb95280d295049692c36c0b8444d39eed9f8bfcfcfcf4488cca930db8bf0bc1\n",
      "\n"
     ]
    }
   ],
   "source": [
    "# How many blocks should we add to the chain\n",
    "# after the genesis block\n",
    "num_of_blocks_to_add = 5\n",
    "\n",
    "# Add blocks to the chain\n",
    "for i in range(0, num_of_blocks_to_add):\n",
    "  block_to_add = next_block(previous_block)\n",
    "  blockchain.append(block_to_add)\n",
    "  previous_block = block_to_add\n",
    "  # Tell everyone about it!\n",
    "  print(\"Block #{} has been added to the blockchain!\".format(block_to_add.index))\n",
    "  print(\"Hash: {}\\n\".format(block_to_add.hash))"
   ]
  },
  {
   "cell_type": "code",
   "execution_count": 32,
   "metadata": {},
   "outputs": [
    {
     "data": {
      "text/plain": [
       "[0000: 2017-12-17 09:28:25.578960, Genesis Block : 0,\n",
       " 0001: 2017-12-17 09:29:01.573141, Hey! I'm block 1 : 5e49e733c3c53feabf40c453752bde7a88f05eb542383af4d85aa4e2562dcf06,\n",
       " 0002: 2017-12-17 09:29:01.573141, Hey! I'm block 2 : 2572c29d5a1f160511998f5b8da342e17d03518317ef730f9ee4f251e6c657ea,\n",
       " 0004: 2017-12-17 09:29:01.574144, Hey! I'm block 4 : b2d11a0d673501e4bff35f0efcb31157d3194c54f13819f16bc2a6aedcf555f7,\n",
       " 0006: 2017-12-17 09:29:22.921619, Hey! I'm block 6 : 1c0552c17910f3f69e84f31eac0b6eb37af25ea4eedc1b7f3c116113f8d81d10,\n",
       " 0007: 2017-12-17 09:29:22.922625, Hey! I'm block 7 : 250ced76e5a3d3e38a35c6309b2685dd22347992f8065a65b57be85c8be07fce,\n",
       " 0008: 2017-12-17 09:29:22.922625, Hey! I'm block 8 : d246554a64975cc87e1af2cb472a2a01a9faca4ae494aa012755045c9352e5b7,\n",
       " 0009: 2017-12-17 09:29:22.922625, Hey! I'm block 9 : 6317fe9b653726502770307b88f74aae970f127cc71e2636d0479d077770023a,\n",
       " 0010: 2017-12-17 09:29:22.922625, Hey! I'm block 10 : cf1085698a4fe4cb801a15139ce25a814a13df14b1f36b988442450e445ea42d,\n",
       " 0011: 2017-12-17 09:40:39.968303, Hey! I'm block 11 : d3c982af236f5183554f75fe19fd319e916e04950c22283a088c233ac502c0e1,\n",
       " 0012: 2017-12-17 09:40:39.968303, Hey! I'm block 12 : 49fdec08a7b33869eb0177fd8b4d164e25b3e79cdac0b8b16874f90f040d234c,\n",
       " 0013: 2017-12-17 09:40:39.970309, Hey! I'm block 13 : bc70d409cc672f2f4b508b23f327834c099bf4af68b7eb7472092ee55afbe023,\n",
       " 0014: 2017-12-17 09:40:39.970309, Hey! I'm block 14 : 1a27e94db2c02d6a9436a0b816a4e5a172ba8cbc0fadb93bbc7d03c359d13a96,\n",
       " 0015: 2017-12-17 09:40:39.970309, Hey! I'm block 15 : 166e7b7d48a015e22dc1d3a2b0987f198d2170759b37ff75aea26fc63c398959]"
      ]
     },
     "execution_count": 32,
     "metadata": {},
     "output_type": "execute_result"
    }
   ],
   "source": [
    "blockchain"
   ]
  },
  {
   "cell_type": "code",
   "execution_count": 33,
   "metadata": {},
   "outputs": [],
   "source": [
    "from warnings import warn\n",
    "def validate_blockchain(in_blockchain):\n",
    "    for current_position in range(1, len(in_blockchain)):\n",
    "        previous_position = current_position - 1\n",
    "        if in_blockchain[previous_position].hash_block() == in_blockchain[current_position].previous_hash:\n",
    "            print('Block %d is valid' % current_position)\n",
    "        else:\n",
    "            warn('Block %d is invalid! (%s)' % (current_position, repr(in_blockchain[current_position])))\n",
    "            break"
   ]
  },
  {
   "cell_type": "code",
   "execution_count": 34,
   "metadata": {
    "scrolled": true
   },
   "outputs": [
    {
     "name": "stdout",
     "output_type": "stream",
     "text": [
      "Block 1 is valid\n",
      "Block 2 is valid\n"
     ]
    },
    {
     "name": "stderr",
     "output_type": "stream",
     "text": [
      "c:\\users\\vidhi\\appdata\\local\\programs\\python\\python36\\lib\\site-packages\\ipykernel_launcher.py:8: UserWarning: Block 3 is invalid! (0004: 2017-12-17 09:29:01.574144, Hey! I'm block 4 : b2d11a0d673501e4bff35f0efcb31157d3194c54f13819f16bc2a6aedcf555f7)\n",
      "  \n"
     ]
    }
   ],
   "source": [
    "old_block_10_data = blockchain[10].data\n",
    "new_block_10_data = \"Hey I'm an invalid data\"\n",
    "blockchain[8].data = new_block_10_data\n",
    "validate_blockchain(blockchain)\n",
    "# replace the original, so we can try something else\n",
    "blockchain[8].data = old_block_10_data"
   ]
  },
  {
   "cell_type": "code",
   "execution_count": 23,
   "metadata": {},
   "outputs": [
    {
     "name": "stdout",
     "output_type": "stream",
     "text": [
      "Block 1 is valid\n",
      "Block 2 is valid\n"
     ]
    },
    {
     "name": "stderr",
     "output_type": "stream",
     "text": [
      "c:\\users\\vidhi\\appdata\\local\\programs\\python\\python36\\lib\\site-packages\\ipykernel_launcher.py:8: UserWarning: Block 3 is invalid! (0004: 2017-12-17 09:29:01.574144, Hey! I'm block 4 : b2d11a0d673501e4bff35f0efcb31157d3194c54f13819f16bc2a6aedcf555f7)\n",
      "  \n"
     ]
    }
   ],
   "source": [
    "# remove the 5th item\n",
    "del blockchain[3]\n",
    "validate_blockchain(blockchain)"
   ]
  }
 ],
 "metadata": {
  "kernelspec": {
   "display_name": "Python 3",
   "language": "python",
   "name": "python3"
  },
  "language_info": {
   "codemirror_mode": {
    "name": "ipython",
    "version": 3
   },
   "file_extension": ".py",
   "mimetype": "text/x-python",
   "name": "python",
   "nbconvert_exporter": "python",
   "pygments_lexer": "ipython3",
   "version": "3.6.3"
  }
 },
 "nbformat": 4,
 "nbformat_minor": 2
}
