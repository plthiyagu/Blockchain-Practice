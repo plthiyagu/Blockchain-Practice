{
 "cells": [
  {
   "cell_type": "code",
   "execution_count": 14,
   "metadata": {},
   "outputs": [],
   "source": [
    "GENESIS_INDEX = 0\n",
    "GENESIS_PREVIOUS_HASH = '0'\n",
    "GENESIS_TIMESTAMP = 1495851743\n",
    "GENESIS_DATA = 'first block'\n",
    "\n",
    "\n",
    "class BlockParams():\n",
    "\n",
    "    def __init__(self, index, previous_hash, timestamp, data):\n",
    "        self.index = index\n",
    "        self.previous_hash = previous_hash\n",
    "        self.timestamp = timestamp\n",
    "        self.data = data\n",
    "\n",
    "    def __str__(self):\n",
    "        return str(self.index) + self.previous_hash + str(self.timestamp) + self.data\n",
    "\n",
    "    @classmethod\n",
    "    def genesis_params(cls):\n",
    "        return cls(GENESIS_INDEX, GENESIS_PREVIOUS_HASH, GENESIS_TIMESTAMP, GENESIS_DATA)"
   ]
  },
  {
   "cell_type": "code",
   "execution_count": 15,
   "metadata": {},
   "outputs": [],
   "source": [
    "import hashlib\n",
    "\n",
    "\n",
    "class Block():\n",
    "\n",
    "    def __init__(self, params):\n",
    "        self.index = params.index\n",
    "        self.previous_hash = params.previous_hash\n",
    "        self.timestamp = params.timestamp\n",
    "        self.data = params.data\n",
    "        self.hash = self.calc_hash()\n",
    "\n",
    "    def params(self):\n",
    "        return BlockParams(\n",
    "            self.index,\n",
    "            self.previous_hash,\n",
    "            self.timestamp,\n",
    "            self.data\n",
    "        )\n",
    "\n",
    "    @classmethod\n",
    "    def genesis_block(cls):\n",
    "        params = BlockParams.genesis_params()\n",
    "        return cls(params)\n",
    "\n",
    "    def calc_hash(self):\n",
    "        return hashlib.sha256(str(self.params()).encode()).hexdigest()\n",
    "\n",
    "    def has_valid_index(self, previous_block):\n",
    "        return self.index == previous_block.index + 1\n",
    "\n",
    "    def has_valid_previous_hash(self, previous_block):\n",
    "        return self.previous_hash == previous_block.hash\n",
    "\n",
    "    def has_valid_hash(self):\n",
    "        return self.calc_hash() == self.hash"
   ]
  },
  {
   "cell_type": "code",
   "execution_count": 16,
   "metadata": {},
   "outputs": [],
   "source": [
    "import time\n",
    "\n",
    "class BlockChain():\n",
    "\n",
    "    def __init__(self):\n",
    "        self.blockchain_store = self.fetch_blockchain()\n",
    "\n",
    "    def latest_block(self):\n",
    "        return self.blockchain_store[-1]\n",
    "\n",
    "    def generate_next_block(self, data):\n",
    "        index = len(self.blockchain_store)\n",
    "        previous_hash = self.latest_block().hash\n",
    "        timestamp = int(time.time())\n",
    "\n",
    "        params = BlockParams(index, previous_hash, timestamp, data)\n",
    "        new_block = Block(params)\n",
    "        self.blockchain_store.append(new_block)\n",
    "\n",
    "    # @TODO mock implement\n",
    "    def fetch_blockchain(self):\n",
    "        return [Block.genesis_block()]\n",
    "\n",
    "    def receive_new_block(self, new_block):\n",
    "        previous_block = self.latest_block()\n",
    "\n",
    "        if not new_block.has_valid_index(previous_block):\n",
    "            print('invalid index')\n",
    "            return\n",
    "        if not new_block.has_valid_previous_hash(previous_block):\n",
    "            print('invalid previous hash')\n",
    "            return\n",
    "        if not new_block.has_valid_hash():\n",
    "            print('invalid hash')\n",
    "            return\n",
    "\n",
    "        self.blockchain_store.append(new_block)\n"
   ]
  },
  {
   "cell_type": "code",
   "execution_count": 17,
   "metadata": {},
   "outputs": [],
   "source": [
    "def create_block(index, previous_hash, timestamp, data):\n",
    "    params = BlockParams(\n",
    "        index, previous_hash, timestamp, data)\n",
    "    return Block(params)"
   ]
  },
  {
   "cell_type": "code",
   "execution_count": 28,
   "metadata": {},
   "outputs": [],
   "source": [
    "prev_block = create_block(0, '0', 1, 'first_block')"
   ]
  },
  {
   "cell_type": "code",
   "execution_count": null,
   "metadata": {},
   "outputs": [],
   "source": [
    "#TestBlock"
   ]
  },
  {
   "cell_type": "code",
   "execution_count": 27,
   "metadata": {},
   "outputs": [
    {
     "data": {
      "text/plain": [
       "True"
      ]
     },
     "execution_count": 27,
     "metadata": {},
     "output_type": "execute_result"
    }
   ],
   "source": [
    "new_block = create_block(1, '0', 1, 'second block')\n",
    "new_block.has_valid_index(prev_block)"
   ]
  },
  {
   "cell_type": "code",
   "execution_count": 26,
   "metadata": {},
   "outputs": [
    {
     "data": {
      "text/plain": [
       "False"
      ]
     },
     "execution_count": 26,
     "metadata": {},
     "output_type": "execute_result"
    }
   ],
   "source": [
    "new_block = create_block(2, '0', 1, 'second block')\n",
    "new_block.has_valid_index(prev_block)"
   ]
  },
  {
   "cell_type": "code",
   "execution_count": 29,
   "metadata": {},
   "outputs": [],
   "source": [
    "#test_has_valid_previous_hash"
   ]
  },
  {
   "cell_type": "code",
   "execution_count": 30,
   "metadata": {},
   "outputs": [],
   "source": [
    "prev_block = create_block(0, '0', 1, 'first_block')\n",
    "prev_hash = prev_block.hash"
   ]
  },
  {
   "cell_type": "code",
   "execution_count": 32,
   "metadata": {},
   "outputs": [
    {
     "data": {
      "text/plain": [
       "True"
      ]
     },
     "execution_count": 32,
     "metadata": {},
     "output_type": "execute_result"
    }
   ],
   "source": [
    "new_block = create_block(1, prev_hash, 1, 'second block')\n",
    "new_block.has_valid_previous_hash(prev_block)"
   ]
  },
  {
   "cell_type": "code",
   "execution_count": 36,
   "metadata": {},
   "outputs": [
    {
     "data": {
      "text/plain": [
       "False"
      ]
     },
     "execution_count": 36,
     "metadata": {},
     "output_type": "execute_result"
    }
   ],
   "source": [
    "new_block = create_block(2,'0',1,'second_block')\n",
    "new_block.has_valid_previous_hash(prev_block)"
   ]
  },
  {
   "cell_type": "code",
   "execution_count": 37,
   "metadata": {},
   "outputs": [],
   "source": [
    "#test_has_valid_hash"
   ]
  },
  {
   "cell_type": "code",
   "execution_count": 40,
   "metadata": {},
   "outputs": [
    {
     "data": {
      "text/plain": [
       "True"
      ]
     },
     "execution_count": 40,
     "metadata": {},
     "output_type": "execute_result"
    }
   ],
   "source": [
    "new_block = create_block(2,'0',1,'second_block')\n",
    "new_block.has_valid_hash()"
   ]
  },
  {
   "cell_type": "code",
   "execution_count": 42,
   "metadata": {},
   "outputs": [
    {
     "data": {
      "text/plain": [
       "False"
      ]
     },
     "execution_count": 42,
     "metadata": {},
     "output_type": "execute_result"
    }
   ],
   "source": [
    "new_block.hash = \"XXX\"\n",
    "new_block.has_valid_hash()"
   ]
  },
  {
   "cell_type": "code",
   "execution_count": 43,
   "metadata": {},
   "outputs": [],
   "source": [
    "#test_generate_new_block"
   ]
  },
  {
   "cell_type": "code",
   "execution_count": 61,
   "metadata": {},
   "outputs": [],
   "source": [
    "bc = BlockChain()\n",
    "old_bc_length = len(bc.blockchain_store)\n",
    "data = \"something new\""
   ]
  },
  {
   "cell_type": "code",
   "execution_count": 65,
   "metadata": {},
   "outputs": [],
   "source": [
    "bc.generate_next_block(data)"
   ]
  },
  {
   "cell_type": "code",
   "execution_count": 67,
   "metadata": {},
   "outputs": [
    {
     "name": "stdout",
     "output_type": "stream",
     "text": [
      "2\n",
      "[<__main__.Block instance at 0x00000000055BB088>, <__main__.Block instance at 0x00000000055BB2C8>, <__main__.Block instance at 0x00000000055BB0C8>]\n",
      "1\n"
     ]
    }
   ],
   "source": [
    "print(len(bc.blockchain_store))\n",
    "print(old_bc_lenght)\n",
    "print(len(bc.blockchain_store) - old_bc_length)"
   ]
  },
  {
   "cell_type": "code",
   "execution_count": 71,
   "metadata": {},
   "outputs": [
    {
     "name": "stdout",
     "output_type": "stream",
     "text": [
      "something new\n"
     ]
    }
   ],
   "source": [
    "print(bc.latest_block().data)"
   ]
  },
  {
   "cell_type": "code",
   "execution_count": 72,
   "metadata": {},
   "outputs": [],
   "source": [
    "#test_receive_blockchain"
   ]
  },
  {
   "cell_type": "code",
   "execution_count": 93,
   "metadata": {},
   "outputs": [],
   "source": [
    "import unittest\n",
    "from mock import MagicMock\n",
    "prev_block = MagicMock()\n",
    "new_block = MagicMock()\n",
    "old_bc_lengh = len(bc.blockchain_store)"
   ]
  },
  {
   "cell_type": "code",
   "execution_count": 101,
   "metadata": {},
   "outputs": [],
   "source": [
    "new_block.has_valid_index = MagicMock(return_value=True)\n",
    "new_block.has_valid_previous_hash = MagicMock(return_value=False)\n",
    "new_block.has_valid_hash = MagicMock(return_value = True)"
   ]
  },
  {
   "cell_type": "code",
   "execution_count": 109,
   "metadata": {},
   "outputs": [
    {
     "name": "stdout",
     "output_type": "stream",
     "text": [
      "invalid previous hash\n",
      "9\n"
     ]
    }
   ],
   "source": [
    "bc.clockchain_store = [new_block]\n",
    "bc.receive_new_block(new_block)\n",
    "#print(len(bc.blockchain_store) - old_bc_lengh)\n",
    "print(len(bc.blockchain_store))"
   ]
  }
 ],
 "metadata": {
  "kernelspec": {
   "display_name": "Python 2",
   "language": "python",
   "name": "python2"
  },
  "language_info": {
   "codemirror_mode": {
    "name": "ipython",
    "version": 2
   },
   "file_extension": ".py",
   "mimetype": "text/x-python",
   "name": "python",
   "nbconvert_exporter": "python",
   "pygments_lexer": "ipython2",
   "version": "2.7.14"
  }
 },
 "nbformat": 4,
 "nbformat_minor": 2
}
