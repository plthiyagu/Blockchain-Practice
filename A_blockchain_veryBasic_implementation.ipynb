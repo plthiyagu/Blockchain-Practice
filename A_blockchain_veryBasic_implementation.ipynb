{
 "cells": [
  {
   "cell_type": "code",
   "execution_count": 4,
   "metadata": {},
   "outputs": [],
   "source": [
    "import datetime as date\n",
    "import hashlib as hash"
   ]
  },
  {
   "cell_type": "code",
   "execution_count": 13,
   "metadata": {},
   "outputs": [],
   "source": [
    "class Block:\n",
    "    def __init__(self, index, timestamp, data, prev_hash):\n",
    "        self.index = index\n",
    "        self.timestamp = timestamp\n",
    "        self.data = data\n",
    "        self.prev_hash = prev_hash\n",
    "        self.hash = hash.sha256(data).hexdigest()\n",
    "    def __repr__(self):\n",
    "        return \"{0} : {1}, {2}, {3} \".format(self.index, str(self.timestamp), self.data, self.prev_hash)"
   ]
  },
  {
   "cell_type": "code",
   "execution_count": 7,
   "metadata": {},
   "outputs": [],
   "source": [
    "def getGenesisBLock():\n",
    "    return Block(0, date.datetime.now(), \"the genesis block\", \"0\")"
   ]
  },
  {
   "cell_type": "code",
   "execution_count": 17,
   "metadata": {},
   "outputs": [],
   "source": [
    "def getNextBlock(prev_block):\n",
    "    index = prev_block.index + 1\n",
    "    timestamp = date.datetime.now()\n",
    "    data = \"this is block # {0}\".format(str(index))\n",
    "    hash = prev_block.hash\n",
    "    return Block(index, timestamp, data, hash)"
   ]
  },
  {
   "cell_type": "code",
   "execution_count": 28,
   "metadata": {},
   "outputs": [
    {
     "name": "stdout",
     "output_type": "stream",
     "text": [
      "5\n"
     ]
    }
   ],
   "source": [
    "bc = [getGenesisBLock()]\n",
    "prev_block = bc[0]\n",
    "\n",
    "new_block = getNextBlock(prev_block)\n",
    "bc.append(new_block)\n",
    "prev_block = new_block\n",
    "\n",
    "new_block = getNextBlock(prev_block)\n",
    "bc.append(new_block)\n",
    "prev_block = new_block\n",
    "\n",
    "new_block = getNextBlock(prev_block)\n",
    "bc.append(new_block)\n",
    "prev_block = new_block\n",
    "\n",
    "new_block = getNextBlock(prev_block)\n",
    "bc.append(new_block)\n",
    "prev_block = new_block\n",
    "\n",
    "bc\n",
    "print(len(bc))"
   ]
  },
  {
   "cell_type": "code",
   "execution_count": 33,
   "metadata": {},
   "outputs": [
    {
     "name": "stdout",
     "output_type": "stream",
     "text": [
      "Block 1 is Valid\n",
      "Block 2 is Valid\n",
      "Block 3 is Valid\n",
      "Block 4 is Valid\n"
     ]
    }
   ],
   "source": [
    "for curr_block in range(1, len(bc)):\n",
    "    prev_block = curr_block -1\n",
    "    if bc[prev_block].hash == bc[curr_block].prev_hash:\n",
    "        print(\"Block {0} is Valid\".format(curr_block))\n",
    "    else:\n",
    "        print(\"Block {0} is Invalid\".format(curr_block))\n",
    "        break"
   ]
  },
  {
   "cell_type": "code",
   "execution_count": 41,
   "metadata": {},
   "outputs": [],
   "source": [
    "bc[2].hash = \"changed the blocks data\""
   ]
  },
  {
   "cell_type": "code",
   "execution_count": 42,
   "metadata": {},
   "outputs": [
    {
     "name": "stdout",
     "output_type": "stream",
     "text": [
      "Block 1 is Valid\n",
      "Block 2 is Valid\n",
      "Block 3 is Invalid\n"
     ]
    }
   ],
   "source": [
    "for curr_block in range(1, len(bc)):\n",
    "    prev_block = curr_block -1\n",
    "    if bc[prev_block].hash == bc[curr_block].prev_hash:\n",
    "        print(\"Block {0} is Valid\".format(curr_block))\n",
    "    else:\n",
    "        print(\"Block {0} is Invalid\".format(curr_block))\n",
    "        break"
   ]
  }
 ],
 "metadata": {
  "kernelspec": {
   "display_name": "Python 2",
   "language": "python",
   "name": "python2"
  },
  "language_info": {
   "codemirror_mode": {
    "name": "ipython",
    "version": 2
   },
   "file_extension": ".py",
   "mimetype": "text/x-python",
   "name": "python",
   "nbconvert_exporter": "python",
   "pygments_lexer": "ipython2",
   "version": "2.7.14"
  }
 },
 "nbformat": 4,
 "nbformat_minor": 2
}
