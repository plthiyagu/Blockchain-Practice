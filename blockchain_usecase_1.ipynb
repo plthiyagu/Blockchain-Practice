{
 "cells": [
  {
   "cell_type": "code",
   "execution_count": 16,
   "metadata": {},
   "outputs": [],
   "source": [
    "#A. impliment the blockhain \n",
    "\n",
    "import datetime as date\n",
    "import hashlib as hash\n",
    "\n",
    "class Block:\n",
    "    def __init__(self, index, timestamp, data, prev_hash):\n",
    "        self.index = index\n",
    "        self.timestamp = timestamp\n",
    "        self.data = data\n",
    "        self.prev_hash = prev_hash\n",
    "        self.hash = hash.sha256(data.encode('ascii')).hexdigest()\n",
    "    def __repr__(self):\n",
    "        return \"{0} : {1}, {2}, {3} \".format(self.index, str(self.timestamp), self.data, self.prev_hash)\n",
    "    \n",
    "def getGenesisBlock():\n",
    "    return Block(0, date.datetime.now(), \"the genesis block\", \"0\")\n",
    "\n",
    "def getNextBlock(prev_block,data):\n",
    "    index = prev_block.index + 1\n",
    "    timestamp = date.datetime.now()\n",
    "    data = data\n",
    "    hash = prev_block.hash\n",
    "    return Block(index, timestamp, data, hash) "
   ]
  },
  {
   "cell_type": "code",
   "execution_count": 17,
   "metadata": {},
   "outputs": [],
   "source": [
    "#B. the datascience module\n",
    "\n",
    "def applyMagic(inputData):\n",
    "    resultData = inputData[::-1]\n",
    "    return resultData"
   ]
  },
  {
   "cell_type": "code",
   "execution_count": 18,
   "metadata": {},
   "outputs": [],
   "source": [
    "#C. add the very first block to the blockchain\n",
    "bc = [getGenesisBlock()]\n",
    "prev_block = bc[0]"
   ]
  },
  {
   "cell_type": "code",
   "execution_count": 19,
   "metadata": {},
   "outputs": [
    {
     "name": "stdout",
     "output_type": "stream",
     "text": [
      "[0 : 2018-01-17 20:55:53.367688, the genesis block, 0 ]\n",
      "1\n"
     ]
    }
   ],
   "source": [
    "print(bc)\n",
    "print(len(bc))"
   ]
  },
  {
   "cell_type": "code",
   "execution_count": 20,
   "metadata": {},
   "outputs": [],
   "source": [
    "#D. \n",
    "#D.1 train the model on the imput data \n",
    "inputData = \"my sampel data set\"\n",
    "result = applyMagic(inputData)\n",
    "\n",
    "#D.2 store the result + inputData in blockchain\n",
    "new_block = getNextBlock(prev_block,result + inputData)\n",
    "bc.append(new_block)\n",
    "prev_block = new_block"
   ]
  },
  {
   "cell_type": "code",
   "execution_count": 21,
   "metadata": {},
   "outputs": [
    {
     "name": "stdout",
     "output_type": "stream",
     "text": [
      "2\n",
      "0 : 2018-01-17 20:55:53.367688, the genesis block, 0 \n",
      "1 : 2018-01-17 20:56:00.829858, tes atad lepmas ymmy sampel data set, adefd71a6d99e989ec041e9dbdd340a09f7f2be25835d5df865ea00531c5d867 \n"
     ]
    }
   ],
   "source": [
    "print(len(bc))\n",
    "\n",
    "for block in bc:\n",
    "    print(block)"
   ]
  }
 ],
 "metadata": {
  "kernelspec": {
   "display_name": "Python 3",
   "language": "python",
   "name": "python3"
  },
  "language_info": {
   "codemirror_mode": {
    "name": "ipython",
    "version": 3
   },
   "file_extension": ".py",
   "mimetype": "text/x-python",
   "name": "python",
   "nbconvert_exporter": "python",
   "pygments_lexer": "ipython3",
   "version": "3.6.3"
  }
 },
 "nbformat": 4,
 "nbformat_minor": 2
}
